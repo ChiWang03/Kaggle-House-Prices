{
 "cells": [
  {
   "cell_type": "markdown",
   "metadata": {},
   "source": [
    "# LASSO\n",
    "## Variabe Selection to improve our model\n",
    "### Note: \n",
    "* Standardize continuous variables\n",
    "* also standardize the dummies.\n",
    "* However, standardizing dummies will eliminate the straightforward interpretability of your coefficients.\n",
    "* If standardizing isn't done you are essentiall tipping the scales in favor of the continuous variables \n",
    "* model selection would be fine but interpretation may be hard\n",
    "* In addition, standardizing categorical variable will not change its properties of being categorical"
   ]
  },
  {
   "cell_type": "code",
   "execution_count": 171,
   "metadata": {},
   "outputs": [],
   "source": [
    "import pandas as pd\n",
    "import matplotlib.pyplot as plt \n",
    "import seaborn as sns"
   ]
  },
  {
   "cell_type": "code",
   "execution_count": 169,
   "metadata": {},
   "outputs": [],
   "source": [
    "train = pd.read_csv(\"X.csv\") \n",
    "response = pd.read_csv(\"y.csv\")\n",
    "test = pd.read_csv(\"test_cleaned.csv\")"
   ]
  },
  {
   "cell_type": "code",
   "execution_count": 138,
   "metadata": {},
   "outputs": [],
   "source": [
    "import numpy as np\n",
    "def rootmse(y_pred,y_true):\n",
    "    return np.sqrt((sum(y_pred-y_true)**2)/len(y_true))"
   ]
  },
  {
   "cell_type": "code",
   "execution_count": 57,
   "metadata": {},
   "outputs": [],
   "source": [
    "from sklearn.linear_model import Lasso\n",
    "\n",
    "results = []\n",
    "alpha = np.arange(1e-2,1e-1,5e-3)\n",
    "\n",
    "scores = []\n",
    "\n",
    "for i in range(0,len(alpha)):\n",
    "    lasso_mod = Lasso(alpha=alpha[i], normalize=True, max_iter=1e5)\n",
    "    lasso_mod.fit(train, response[\"SalePrice\"])\n",
    "    pred = lasso_mod.predict(train)\n",
    "    rmse = rootmse(pred, response[\"SalePrice\"])\n",
    "    results.append(rmse)\n",
    "    scores.append(lasso_mod.score(train,response[\"SalePrice\"]))"
   ]
  },
  {
   "cell_type": "code",
   "execution_count": 58,
   "metadata": {},
   "outputs": [
    {
     "data": {
      "text/html": [
       "<div>\n",
       "<style scoped>\n",
       "    .dataframe tbody tr th:only-of-type {\n",
       "        vertical-align: middle;\n",
       "    }\n",
       "\n",
       "    .dataframe tbody tr th {\n",
       "        vertical-align: top;\n",
       "    }\n",
       "\n",
       "    .dataframe thead th {\n",
       "        text-align: right;\n",
       "    }\n",
       "</style>\n",
       "<table border=\"1\" class=\"dataframe\">\n",
       "  <thead>\n",
       "    <tr style=\"text-align: right;\">\n",
       "      <th></th>\n",
       "      <th>R-Square</th>\n",
       "      <th>Root Mean Squared Error</th>\n",
       "      <th>alpha</th>\n",
       "    </tr>\n",
       "  </thead>\n",
       "  <tbody>\n",
       "    <tr>\n",
       "      <th>0.010</th>\n",
       "      <td>0.911385</td>\n",
       "      <td>1.679898e-08</td>\n",
       "      <td>0.010</td>\n",
       "    </tr>\n",
       "    <tr>\n",
       "      <th>0.015</th>\n",
       "      <td>0.911384</td>\n",
       "      <td>1.742704e-08</td>\n",
       "      <td>0.015</td>\n",
       "    </tr>\n",
       "    <tr>\n",
       "      <th>0.020</th>\n",
       "      <td>0.911384</td>\n",
       "      <td>3.446993e-08</td>\n",
       "      <td>0.020</td>\n",
       "    </tr>\n",
       "    <tr>\n",
       "      <th>0.025</th>\n",
       "      <td>0.911384</td>\n",
       "      <td>7.798874e-09</td>\n",
       "      <td>0.025</td>\n",
       "    </tr>\n",
       "    <tr>\n",
       "      <th>0.030</th>\n",
       "      <td>0.911384</td>\n",
       "      <td>1.097574e-09</td>\n",
       "      <td>0.030</td>\n",
       "    </tr>\n",
       "    <tr>\n",
       "      <th>0.035</th>\n",
       "      <td>0.911383</td>\n",
       "      <td>2.402468e-09</td>\n",
       "      <td>0.035</td>\n",
       "    </tr>\n",
       "    <tr>\n",
       "      <th>0.040</th>\n",
       "      <td>0.911383</td>\n",
       "      <td>9.298892e-09</td>\n",
       "      <td>0.040</td>\n",
       "    </tr>\n",
       "    <tr>\n",
       "      <th>0.045</th>\n",
       "      <td>0.911383</td>\n",
       "      <td>6.381174e-08</td>\n",
       "      <td>0.045</td>\n",
       "    </tr>\n",
       "    <tr>\n",
       "      <th>0.050</th>\n",
       "      <td>0.911382</td>\n",
       "      <td>1.020744e-08</td>\n",
       "      <td>0.050</td>\n",
       "    </tr>\n",
       "    <tr>\n",
       "      <th>0.055</th>\n",
       "      <td>0.911382</td>\n",
       "      <td>3.106135e-08</td>\n",
       "      <td>0.055</td>\n",
       "    </tr>\n",
       "    <tr>\n",
       "      <th>0.060</th>\n",
       "      <td>0.911381</td>\n",
       "      <td>2.215880e-08</td>\n",
       "      <td>0.060</td>\n",
       "    </tr>\n",
       "    <tr>\n",
       "      <th>0.065</th>\n",
       "      <td>0.911380</td>\n",
       "      <td>2.886010e-08</td>\n",
       "      <td>0.065</td>\n",
       "    </tr>\n",
       "    <tr>\n",
       "      <th>0.070</th>\n",
       "      <td>0.911379</td>\n",
       "      <td>1.798802e-09</td>\n",
       "      <td>0.070</td>\n",
       "    </tr>\n",
       "    <tr>\n",
       "      <th>0.075</th>\n",
       "      <td>0.911378</td>\n",
       "      <td>1.576238e-08</td>\n",
       "      <td>0.075</td>\n",
       "    </tr>\n",
       "    <tr>\n",
       "      <th>0.080</th>\n",
       "      <td>0.911377</td>\n",
       "      <td>5.719581e-09</td>\n",
       "      <td>0.080</td>\n",
       "    </tr>\n",
       "    <tr>\n",
       "      <th>0.085</th>\n",
       "      <td>0.911377</td>\n",
       "      <td>3.847607e-08</td>\n",
       "      <td>0.085</td>\n",
       "    </tr>\n",
       "    <tr>\n",
       "      <th>0.090</th>\n",
       "      <td>0.911376</td>\n",
       "      <td>3.289064e-08</td>\n",
       "      <td>0.090</td>\n",
       "    </tr>\n",
       "    <tr>\n",
       "      <th>0.095</th>\n",
       "      <td>0.911375</td>\n",
       "      <td>2.203685e-08</td>\n",
       "      <td>0.095</td>\n",
       "    </tr>\n",
       "  </tbody>\n",
       "</table>\n",
       "</div>"
      ],
      "text/plain": [
       "       R-Square  Root Mean Squared Error  alpha\n",
       "0.010  0.911385             1.679898e-08  0.010\n",
       "0.015  0.911384             1.742704e-08  0.015\n",
       "0.020  0.911384             3.446993e-08  0.020\n",
       "0.025  0.911384             7.798874e-09  0.025\n",
       "0.030  0.911384             1.097574e-09  0.030\n",
       "0.035  0.911383             2.402468e-09  0.035\n",
       "0.040  0.911383             9.298892e-09  0.040\n",
       "0.045  0.911383             6.381174e-08  0.045\n",
       "0.050  0.911382             1.020744e-08  0.050\n",
       "0.055  0.911382             3.106135e-08  0.055\n",
       "0.060  0.911381             2.215880e-08  0.060\n",
       "0.065  0.911380             2.886010e-08  0.065\n",
       "0.070  0.911379             1.798802e-09  0.070\n",
       "0.075  0.911378             1.576238e-08  0.075\n",
       "0.080  0.911377             5.719581e-09  0.080\n",
       "0.085  0.911377             3.847607e-08  0.085\n",
       "0.090  0.911376             3.289064e-08  0.090\n",
       "0.095  0.911375             2.203685e-08  0.095"
      ]
     },
     "execution_count": 58,
     "metadata": {},
     "output_type": "execute_result"
    }
   ],
   "source": [
    "res= pd.DataFrame({\"R-Square\": scores, \"Root Mean Squared Error\": results, \"alpha\":alpha}, index = alpha)\n",
    "res"
   ]
  },
  {
   "cell_type": "code",
   "execution_count": 62,
   "metadata": {},
   "outputs": [
    {
     "data": {
      "text/html": [
       "<div>\n",
       "<style scoped>\n",
       "    .dataframe tbody tr th:only-of-type {\n",
       "        vertical-align: middle;\n",
       "    }\n",
       "\n",
       "    .dataframe tbody tr th {\n",
       "        vertical-align: top;\n",
       "    }\n",
       "\n",
       "    .dataframe thead th {\n",
       "        text-align: right;\n",
       "    }\n",
       "</style>\n",
       "<table border=\"1\" class=\"dataframe\">\n",
       "  <thead>\n",
       "    <tr style=\"text-align: right;\">\n",
       "      <th></th>\n",
       "      <th>R-Square</th>\n",
       "      <th>Root Mean Squared Error</th>\n",
       "      <th>alpha</th>\n",
       "    </tr>\n",
       "  </thead>\n",
       "  <tbody>\n",
       "    <tr>\n",
       "      <th>0.03</th>\n",
       "      <td>0.911384</td>\n",
       "      <td>1.097574e-09</td>\n",
       "      <td>0.03</td>\n",
       "    </tr>\n",
       "  </tbody>\n",
       "</table>\n",
       "</div>"
      ],
      "text/plain": [
       "      R-Square  Root Mean Squared Error  alpha\n",
       "0.03  0.911384             1.097574e-09   0.03"
      ]
     },
     "execution_count": 62,
     "metadata": {},
     "output_type": "execute_result"
    }
   ],
   "source": [
    "res[res[\"Root Mean Squared Error\"] == min(res[\"Root Mean Squared Error\"])]\n",
    "# alpha = 0.03 gives lowes rmse"
   ]
  },
  {
   "cell_type": "code",
   "execution_count": 65,
   "metadata": {},
   "outputs": [
    {
     "data": {
      "text/html": [
       "<div>\n",
       "<style scoped>\n",
       "    .dataframe tbody tr th:only-of-type {\n",
       "        vertical-align: middle;\n",
       "    }\n",
       "\n",
       "    .dataframe tbody tr th {\n",
       "        vertical-align: top;\n",
       "    }\n",
       "\n",
       "    .dataframe thead th {\n",
       "        text-align: right;\n",
       "    }\n",
       "</style>\n",
       "<table border=\"1\" class=\"dataframe\">\n",
       "  <thead>\n",
       "    <tr style=\"text-align: right;\">\n",
       "      <th></th>\n",
       "      <th>R-Square</th>\n",
       "      <th>Root Mean Squared Error</th>\n",
       "      <th>alpha</th>\n",
       "    </tr>\n",
       "  </thead>\n",
       "  <tbody>\n",
       "    <tr>\n",
       "      <th>0.01</th>\n",
       "      <td>0.911385</td>\n",
       "      <td>1.679898e-08</td>\n",
       "      <td>0.01</td>\n",
       "    </tr>\n",
       "  </tbody>\n",
       "</table>\n",
       "</div>"
      ],
      "text/plain": [
       "      R-Square  Root Mean Squared Error  alpha\n",
       "0.01  0.911385             1.679898e-08   0.01"
      ]
     },
     "execution_count": 65,
     "metadata": {},
     "output_type": "execute_result"
    }
   ],
   "source": [
    "res[res[\"R-Square\"] == max(res[\"R-Square\"])]"
   ]
  },
  {
   "cell_type": "code",
   "execution_count": 187,
   "metadata": {},
   "outputs": [],
   "source": [
    "from sklearn.linear_model import LassoCV\n",
    "lasso_cv = LassoCV(cv=10, precompute = False, normalize=True, n_jobs = -1).fit(train, response[\"SalePrice\"])"
   ]
  },
  {
   "cell_type": "code",
   "execution_count": 211,
   "metadata": {},
   "outputs": [
    {
     "data": {
      "text/plain": [
       "[Text(0.5, 0, 'non Penalized Coefficients'),\n",
       " Text(0.5, 1.0, 'Lasso Variable Importance')]"
      ]
     },
     "execution_count": 211,
     "metadata": {},
     "output_type": "execute_result"
    },
    {
     "data": {
      "image/png": "[encoded data removed]",
      "text/plain": [
       "<Figure size 432x288 with 1 Axes>"
      ]
     },
     "metadata": {
      "needs_background": "light"
     },
     "output_type": "display_data"
    }
   ],
   "source": [
    "# Since we have way to many predictors lets just look at the ones that are important\n",
    "# which are the ones that are not penalized\n",
    "\n",
    "coef = pd.DataFrame(np.round_(lasso_cv.coef_, decimals=3),train.columns, columns = [\"non penalized coefficients\"])\n",
    "coef = coef[coef['non penalized coefficients'] >= 2000] \n",
    "# This cutoff is just for visualization since there are too many predictors\n",
    "coef = coef.sort_values(by = 'non penalized coefficients', ascending = False)\n",
    "\n",
    "ax = sns.barplot(x = 'non penalized coefficients', y= coef.index , data=coef)\n",
    "ax.set(xlabel='non Penalized Coefficients', title ='Lasso Variable Importance')\n"
   ]
  },
  {
   "cell_type": "markdown",
   "metadata": {},
   "source": [
    "# LASSO PATH"
   ]
  },
  {
   "cell_type": "code",
   "execution_count": 156,
   "metadata": {},
   "outputs": [
    {
     "name": "stderr",
     "output_type": "stream",
     "text": [
      "/Users/chi/anaconda/lib/python3.6/site-packages/sklearn/preprocessing/data.py:161: RuntimeWarning: Mean of empty slice\n",
      "  mean_ = np.nanmean(X, axis)\n",
      "/Users/chi/anaconda/lib/python3.6/site-packages/numpy/lib/nanfunctions.py:1545: RuntimeWarning: Degrees of freedom <= 0 for slice.\n",
      "  keepdims=keepdims)\n",
      "/Users/chi/anaconda/lib/python3.6/site-packages/sklearn/preprocessing/data.py:169: RuntimeWarning: Mean of empty slice\n",
      "  mean_1 = np.nanmean(Xr, axis=0)\n",
      "/Users/chi/anaconda/lib/python3.6/site-packages/sklearn/preprocessing/data.py:176: UserWarning: Numerical issues were encountered when centering the data and might not be solved. Dataset may contain too large values. You may need to prescale your features.\n",
      "  warnings.warn(\"Numerical issues were encountered \"\n",
      "/Users/chi/anaconda/lib/python3.6/site-packages/sklearn/preprocessing/data.py:186: RuntimeWarning: Mean of empty slice\n",
      "  mean_2 = np.nanmean(Xr, axis=0)\n",
      "/Users/chi/anaconda/lib/python3.6/site-packages/sklearn/preprocessing/data.py:193: UserWarning: Numerical issues were encountered when scaling the data and might not be solved. The standard deviation of the data is probably very close to 0. \n",
      "  warnings.warn(\"Numerical issues were encountered \"\n"
     ]
    }
   ],
   "source": [
    "from itertools import cycle\n",
    "from sklearn.linear_model import lasso_path, enet_path\n",
    "from sklearn import preprocessing\n",
    "X = train\n",
    "y = response[\"SalePrice\"]\n",
    "X_scaled = preprocessing.scale(X)"
   ]
  },
  {
   "cell_type": "code",
   "execution_count": 157,
   "metadata": {},
   "outputs": [
    {
     "data": {
      "text/plain": [
       "array([[-0.10435296, -0.16639215,  0.06428243, ..., -0.11793306,\n",
       "         0.46586305, -0.3035372 ],\n",
       "       [ 0.55462332,  0.08035994,  0.06428243, ..., -0.11793306,\n",
       "         0.46586305, -0.3035372 ],\n",
       "       [ 0.03696641,  0.39373885,  0.06428243, ..., -0.11793306,\n",
       "         0.46586305, -0.3035372 ],\n",
       "       ...,\n",
       "       [-0.05665054, -0.0360325 ,  0.06428243, ..., -0.11793306,\n",
       "         0.46586305, -0.3035372 ],\n",
       "       [ 0.03696641,  0.10403276,  0.06428243, ..., -0.11793306,\n",
       "         0.46586305, -0.3035372 ],\n",
       "       [ 0.34742859,  0.14789723,  0.06428243, ..., -0.11793306,\n",
       "         0.46586305, -0.3035372 ]])"
      ]
     },
     "execution_count": 157,
     "metadata": {},
     "output_type": "execute_result"
    }
   ],
   "source": [
    "X_scaled"
   ]
  },
  {
   "cell_type": "code",
   "execution_count": 161,
   "metadata": {},
   "outputs": [
    {
     "data": {
      "text/plain": [
       "True"
      ]
     },
     "execution_count": 161,
     "metadata": {},
     "output_type": "execute_result"
    }
   ],
   "source": [
    "np.any(np.isnan(X_scaled))"
   ]
  },
  {
   "cell_type": "code",
   "execution_count": 162,
   "metadata": {},
   "outputs": [
    {
     "data": {
      "text/plain": [
       "False"
      ]
     },
     "execution_count": 162,
     "metadata": {},
     "output_type": "execute_result"
    }
   ],
   "source": [
    "np.all(np.isfinite(X_scaled))"
   ]
  },
  {
   "cell_type": "code",
   "execution_count": 163,
   "metadata": {},
   "outputs": [
    {
     "data": {
      "text/plain": [
       "(array([   0,    1,    2, ..., 1455, 1456, 1457]),\n",
       " array([61, 61, 61, ..., 61, 61, 61]))"
      ]
     },
     "execution_count": 163,
     "metadata": {},
     "output_type": "execute_result"
    }
   ],
   "source": [
    "np.where(np.isnan(X_scaled))"
   ]
  }
 ],
 "metadata": {
  "kernelspec": {
   "display_name": "Python 3",
   "language": "python",
   "name": "python3"
  },
  "language_info": {
   "codemirror_mode": {
    "name": "ipython",
    "version": 3
   },
   "file_extension": ".py",
   "mimetype": "text/x-python",
   "name": "python",
   "nbconvert_exporter": "python",
   "pygments_lexer": "ipython3",
   "version": "3.6.7"
  }
 },
 "nbformat": 4,
 "nbformat_minor": 2
}
